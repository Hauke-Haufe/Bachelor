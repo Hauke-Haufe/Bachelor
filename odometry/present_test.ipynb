{
 "cells": [
  {
   "cell_type": "markdown",
   "id": "36766665",
   "metadata": {},
   "source": [
    "# Residual Maps "
   ]
  },
  {
   "cell_type": "code",
   "execution_count": null,
   "id": "f8224eef",
   "metadata": {},
   "outputs": [],
   "source": [
    "import open3d as o3d\n",
    "from PIL import Image\n",
    "import matplotlib.pyplot as plt\n",
    "import numpy as np\n",
    "\n",
    "def load_intrinsicmatrix():\n",
    "\n",
    "    intrinsic = o3d.io.read_pinhole_camera_intrinsic(\"presentation_data/intrinsics.json\")\n",
    "\n",
    "    return o3d.core.Tensor(intrinsic.intrinsic_matrix)\n",
    "\n",
    "def load_sample_data():\n",
    "    source_rgb = o3d.t.io.read_image(\"presentation_data/color/source.png\")\n",
    "    target_rgb = o3d.t.io.read_image(\"presentation_data/color/target.png\")\n",
    "    source_depth = o3d.t.io.read_image(\"presentation_data/depth/source.png\")\n",
    "    target_depth = o3d.t.io.read_image(\"presentation_data/depth/target.png\")\n",
    "\n",
    "    source_mask = o3d.t.io.read_image(\"presentation_data/mask/source.png\")\n",
    "    target_mask = o3d.t.io.read_image(\"presentation_data/mask/target.png\")\n",
    "\n",
    "    source = o3d.t.geometry.RGBDMImage(source_rgb, source_depth, source_mask)\n",
    "    target = o3d.t.geometry.RGBDMImage(target_rgb, target_depth, target_mask)\n",
    "\n",
    "    return source, target\n",
    "\n",
    "def plot_residual_map(method):\n",
    "\n",
    "    fig = plt.figure(figsize=(2,2))\n",
    "    ax = fig.add_subplot(111)\n",
    "\n",
    "    source, target = load_sample_data()\n",
    "    intrisic = load_intrinsicmatrix()\n",
    "\n",
    "    result = o3d.t.pipeline.odometry.rgbdm_odometry_multi_scale(\n",
    "        source, target, intrisic, \n",
    "        method = o3d.t.pipeline.odometry.RGBDMOdometryMethod.PointToPlane) \n",
    "\n",
    "    res_map_before = o3d.t.pipeline.odometry.compute_residual_map(\n",
    "        source, target, o3d.core.Tensor(np.identity(4)),intrisic, method)\n",
    "\n",
    "    res_map_after = o3d.t.pipeline.odometry.compute_residual_map(\n",
    "        source, target, intrisic, method)\n",
    "\n",
    "method = o3d.t.pipelines.odometry.Method.PointToPlane\n",
    "plot_residual_map(method)\n",
    "\n"
   ]
  },
  {
   "cell_type": "markdown",
   "id": "7b891b82",
   "metadata": {},
   "source": [
    "# Plot on walking_static"
   ]
  },
  {
   "cell_type": "code",
   "execution_count": 4,
   "id": "b90e804a",
   "metadata": {},
   "outputs": [],
   "source": [
    "from slam_visualizer import plot_graph\n",
    "import open3d as o3d\n",
    "\n",
    "trajec_only = False\n",
    "without_frames = True\n",
    "\n",
    "pcd = o3d.io.read_point_cloud(\"presentation_data/recon_data/walking_static_raw.pcd\")\n",
    "graph = o3d.io.read_pose_graph(\"presentation_data/recon_data/walking_static_raw.json\")\n",
    "\n",
    "plot_graph(pcd, [graph], False, True)\n",
    "\n",
    "\n",
    "pcd = o3d.io.read_point_cloud(\"presentation_data/recon_data/walking_static_maskout.pcd\")\n",
    "graph = o3d.io.read_pose_graph(\"presentation_data/recon_data/walking_static_maskout.json\")\n",
    "\n",
    "plot_graph(pcd, [graph], trajec_only, without_frames)\n"
   ]
  },
  {
   "cell_type": "markdown",
   "id": "a74c3826",
   "metadata": {},
   "source": [
    "# Plot on walking xyz"
   ]
  },
  {
   "cell_type": "code",
   "execution_count": null,
   "id": "4b045c28",
   "metadata": {},
   "outputs": [],
   "source": [
    "from slam_visualizer import plot_graph\n",
    "import open3d as o3d\n",
    "\n",
    "trajec_only = False\n",
    "without_frames = True\n",
    "\n",
    "pcd = o3d.io.read_point_cloud(\"presentation_data/recon_data/walking_xyz_raw.pcd\")\n",
    "graph = o3d.io.read_pose_graph(\"presentation_data/recon_data/walking_xyz_raw.json\")\n",
    "\n",
    "plot_graph(pcd, [graph], False, True)\n",
    "\n",
    "\n",
    "pcd = o3d.io.read_point_cloud(\"presentation_data/recon_data/walking_xyz_maskout.pcd\")\n",
    "graph = o3d.io.read_pose_graph(\"presentation_data/recon_data/walking_xyz_maskout.json\")\n",
    "\n",
    "plot_graph(pcd, [graph], trajec_only, without_frames)"
   ]
  }
 ],
 "metadata": {
  "kernelspec": {
   "display_name": ".venv (3.11.13)",
   "language": "python",
   "name": "python3"
  },
  "language_info": {
   "codemirror_mode": {
    "name": "ipython",
    "version": 3
   },
   "file_extension": ".py",
   "mimetype": "text/x-python",
   "name": "python",
   "nbconvert_exporter": "python",
   "pygments_lexer": "ipython3",
   "version": "3.11.13"
  }
 },
 "nbformat": 4,
 "nbformat_minor": 5
}
